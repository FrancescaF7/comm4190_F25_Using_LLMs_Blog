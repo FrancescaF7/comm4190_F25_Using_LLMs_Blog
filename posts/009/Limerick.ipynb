{
 "cells": [
  {
   "cell_type": "raw",
   "id": "5ca79900-ce7e-4cde-8710-643bc126f704",
   "metadata": {},
   "source": [
    "---\n",
    "title: \"Limericks\"\n",
    "description: \"Can AI learn to play?\"\n",
    "author: \"Francesca\"\n",
    "date: \"9/26/2025\"\n",
    "categories:\n",
    "  - LLMs\n",
    "  - Prompting\n",
    "  - Logic\n",
    "---"
   ]
  },
  {
   "cell_type": "markdown",
   "id": "fa5e1ae2-f2ce-4606-8752-595bf5b81247",
   "metadata": {},
   "source": [
    "In his book *Co-intelligence*, Ethan Mollick highlights that working with AI should not always be serious; and ometimes the best way to understand how humans and AI can collaborate is to play. And so, in keeping with the book, what better test of play than the limerick?\n",
    "\n",
    "A limerick has rules — five lines, a strict AABBA rhyme scheme, and a bouncy rhythm - but it also invites absurdity, wit, and creativity. It is the perfect lab for exploring human–AI co-intelligence."
   ]
  },
  {
   "cell_type": "markdown",
   "id": "941548b9-3cbb-4a3a-a61c-cbb2bcb544d3",
   "metadata": {},
   "source": [
    "---\n",
    "\n",
    "**Putting AI to the test**\n",
    "\n",
    "I decided to see what happens when I wrote limericks with an Chat GPT 5. I gave it the first line, then let it fill in the rest. Here’s one:\n",
    "\n",
    "\"There once was a student from Penn,\n",
    "\n",
    "Who asked ChatGPT for a pen,\n",
    "\n",
    "It wrote with such flair,\n",
    "\n",
    "Ideas everywhere,\n",
    "\n",
    "That she never used paper again.\""
   ]
  },
  {
   "cell_type": "markdown",
   "id": "7ee104d3-14e8-43ad-8607-2fb4b91f371a",
   "metadata": {},
   "source": [
    "<p style=\"color:pink\">Pretty good! The rhyme works, the rhythm holds, and it is also on theme. But not every attempt was so smooth.</p>"
   ]
  },
  {
   "cell_type": "markdown",
   "id": "919b3e2e-8c68-47b0-ad5a-7d2489c91033",
   "metadata": {},
   "source": [
    "*Another attempt:*\n",
    "\n",
    "\"There once was a bot that could write,\n",
    "\n",
    "It typed every day and all night,\n",
    "\n",
    "With knowledge so vast,\n",
    "\n",
    "It finished real fast,\n",
    "\n",
    "And sometimes it got it not right.\"\n",
    "\n",
    "---"
   ]
  },
  {
   "cell_type": "markdown",
   "id": "d9d735b4-ede4-49d0-906a-0cb2a8a10274",
   "metadata": {},
   "source": [
    "*Another attempt:*\n",
    "\n",
    "\"I asked it to rhyme about cheese,\n",
    "\n",
    "It answered with relative ease,\n",
    "\n",
    "It mentioned the moon,\n",
    "\n",
    "And then a baboon,\n",
    "\n",
    "And something about... Christmas trees.\""
   ]
  },
  {
   "cell_type": "markdown",
   "id": "5a20f05c-ba2f-43b6-b9fa-8198e248773e",
   "metadata": {},
   "source": [
    "---\n",
    "\n",
    "*Another attempt:*\n",
    "\n",
    "\"There once was a student in Spain,\n",
    "\n",
    "Who studied the heat and the rain,\n",
    "\n",
    "She danced on the sand,\n",
    "\n",
    "While eating her hand,\n",
    "\n",
    "And then flew away on a train.\"\n",
    "\n",
    "<p style=\"color:red\">Logic Slip!</p>"
   ]
  },
  {
   "cell_type": "markdown",
   "id": "793ef56e-b13b-4a00-b37e-9afe58487504",
   "metadata": {},
   "source": [
    "**When AI Gets It Right… and Wrong**\n",
    "\n",
    "What I noticed is that AI can nail a limerick one moment and miss the mark the next. Sometimes it gets it right — sharp rhymes, clean rhythm, even a clever punchline. But other times it gets stumped - forcing awkward word choices, slipping into nonsense, or forgetting the five-line rule altogether.\n",
    "\n",
    "That contrast is the real lesson. AI is great at generating possibilities, but not at knowing which ones are actually good. The human role is to sift, guide, and refine.\n",
    "\n",
    "Therefore, working with AI could maybe be less about perfect outputs and more about the back-and-forth."
   ]
  },
  {
   "cell_type": "markdown",
   "id": "639b0abd-458e-477d-9f3f-ebc1f61a406e",
   "metadata": {},
   "source": [
    "<p style=\"color:red\">Enjoy this image Chat GPT 5 created for me to encompass limericks!</p>"
   ]
  }
 ],
 "metadata": {
  "kernelspec": {
   "display_name": "Python 3-12 (COMM4190)",
   "language": "python",
   "name": "python3-12_comm4190"
  },
  "language_info": {
   "codemirror_mode": {
    "name": "ipython",
    "version": 3
   },
   "file_extension": ".py",
   "mimetype": "text/x-python",
   "name": "python",
   "nbconvert_exporter": "python",
   "pygments_lexer": "ipython3",
   "version": "3.12.11"
  }
 },
 "nbformat": 4,
 "nbformat_minor": 5
}
