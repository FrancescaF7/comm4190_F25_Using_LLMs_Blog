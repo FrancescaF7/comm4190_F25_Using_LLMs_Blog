{
 "cells": [
  {
   "cell_type": "raw",
   "id": "4d5414c5-e799-48fe-a770-c759e7d05097",
   "metadata": {},
   "source": [
    "---\n",
    "title: \"Life Advice\"\n",
    "description: \"AI Life Advice\"\n",
    "author: \"Francesca\"\n",
    "date: \"9/19/2025\"\n",
    "categories:\n",
    "  - LLMs\n",
    "  - Prompting\n",
    "  - Advice\n",
    "---"
   ]
  },
  {
   "cell_type": "markdown",
   "id": "50a69211-0c6e-445e-bd55-33da7dc3485d",
   "metadata": {},
   "source": [
    "1. Give me advice as if you’re my brutally honest best friend.\n",
    "2. Tell me how to handle exam stress, but do it in the style of a motivational coach.\n",
    "3. What’s your best tip for getting over a breakup — but make it sound like my grandma wrote it.\n",
    "4. Give me the worst life advice you can possibly think of."
   ]
  },
  {
   "cell_type": "markdown",
   "id": "e54d8855-ddb6-43fd-9ba1-e235830bfb7e",
   "metadata": {},
   "source": [
    "**Brutally Honest Best Friend**\n",
    "\n",
    "“Stop whining. You’re not special for being stressed, everyone else has exams too. You’ve procrastinated more than you want to admit, so buckle down, make a schedule, and stick to it. No more scrolling TikTok until 2 AM. You’ll survive if you just actually do the work instead of stressing about the work. Harsh but true.”\n",
    "\n",
    "**Motivational Coach**\n",
    "\n",
    "“Listen! Stress is energy — and you get to decide whether it crushes you or fuels you. Every rep in the gym burns, but it makes you stronger, right? Same with exam prep. Visualize the win. Control your breathing. Attack your study plan in focused sprints, then recover. You are built for this. Let’s turn that stress into your competitive edge.”\n",
    "\n",
    "**Grandma**\n",
    "\n",
    "“Oh sweetheart, time will heal this heart of yours. Don’t rush. Make yourself a nice cup of tea, keep busy with your friends, and remember that even the darkest night ends with sunrise. One day you’ll look back and laugh at how small this heartbreak feels. Until then, let yourself rest and be gentle with yourself.”\n",
    "\n",
    "**Worst Life Advice Ever**\n",
    "\n",
    "“Feeling stressed? Drop out of school, move to Vegas, and put all your money on red. Breakup? Text your ex at 3 AM with an essay-length message about how you ‘still feel the vibe.’ And the key to life? Always procrastinate — future you loves a challenge.”"
   ]
  },
  {
   "cell_type": "markdown",
   "id": "b856d993-73a6-4966-8bd1-f21d2398fd5a",
   "metadata": {},
   "source": [
    "<p style=\"color:purple\">Reflection:</p>\n",
    "\n",
    "What stood out most in these responses was how convincingly ChatGPT could switch tones depending on the persona. \n",
    "\n",
    "The “Brutally Honest Best Friend” reply was blunt and cutting in a way that almost felt too real — it mimicked the kind of tough love you’d get from someone who knows you well and doesn’t sugarcoat. \n",
    "\n",
    "The “Motivational Coach” sounded like it came straight out of a TED Talk or a Peloton class, full of metaphors and high energy. \n",
    "\n",
    "The “Grandma” voice, meanwhile, leaned into gentleness, imagery, and timeless wisdom, showing that the model can reproduce the emotional warmth of a caregiver even if it doesn’t actually feel empathy. \n",
    "\n",
    "Finally, the “Worst Life Advice Ever” proved that the LLM can deliberately break rules and exaggerate — almost like an inside joke — which shows some degree of meta-awareness.\n",
    "\n",
    "While these outputs feel human, they’re not grounded in genuine experience. A real friend’s advice comes from knowing your habits; a coach’s from training expertise; and a grandma’s from a life of lived wisdom. ChatGPT is remixing patterns from text it has seen, not drawing from personal memory or emotional understanding. That makes its advice entertaining and sometimes eerily convincing, but also hollow if you look too closely.\n",
    "\n",
    "So, in essence, the model is great at sounding human in the short term, but it can’t replicate the deeper trust and context we rely on in real relationships."
   ]
  },
  {
   "cell_type": "markdown",
   "id": "6cbd6a74-7724-49d6-8f01-29e5b144f096",
   "metadata": {},
   "source": [
    "![](advice.jpg)"
   ]
  }
 ],
 "metadata": {
  "kernelspec": {
   "display_name": "Python 3-12 (COMM4190)",
   "language": "python",
   "name": "python3-12_comm4190"
  },
  "language_info": {
   "codemirror_mode": {
    "name": "ipython",
    "version": 3
   },
   "file_extension": ".py",
   "mimetype": "text/x-python",
   "name": "python",
   "nbconvert_exporter": "python",
   "pygments_lexer": "ipython3",
   "version": "3.12.11"
  }
 },
 "nbformat": 4,
 "nbformat_minor": 5
}
