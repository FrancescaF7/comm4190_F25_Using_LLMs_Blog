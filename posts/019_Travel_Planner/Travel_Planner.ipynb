{
 "cells": [
  {
   "cell_type": "raw",
   "id": "9a8f1bcf-98c7-4f6a-8d0f-5d3c5fc82906",
   "metadata": {},
   "source": [
    "---\n",
    "title: \"LLM Travel Planner\"\n",
    "description: \"Can an LLM plan a trip?\"\n",
    "author: \"Francesca\"\n",
    "date: \"10/24/2025\"\n",
    "categories:\n",
    "  - LLMs\n",
    "  - Daily Life\n",
    "  - Productivity\n",
    "---"
   ]
  },
  {
   "cell_type": "markdown",
   "id": "0a64baa0-04e0-4f4a-a5ec-38291e6682f6",
   "metadata": {},
   "source": [
    "I wanted to see if an LLM could take over trip planning - flights, activities, food, everything - and make it less overwheling. \n",
    "\n",
    "So I tried with Chat GPT 5. \n",
    "\n",
    "---"
   ]
  },
  {
   "cell_type": "markdown",
   "id": "033b9b8f-b0aa-4390-99f7-6004beb5cd43",
   "metadata": {},
   "source": [
    "I gave it a simple task:\n",
    "\n",
    "“Plan a 3-day trip to Paris for two students on a $400 budget. Include meals, activities, and transport.”\n",
    "\n",
    "Within seconds, it spit out a full itinerary:\n",
    "\n",
    "Day 1: Eiffel Tower, picnic at Champ de Mars, crepes for dinner.\n",
    "\n",
    "Day 2: Louvre, walk along the Seine, street food lunch.\n",
    "\n",
    "Day 3: Montmartre, Sacré-Cœur, bakery breakfast, fly home.\n",
    "\n",
    "It even listed estimated prices for each meal and metro tickets. Pretty impressive — until I noticed it scheduled the Louvre and Eiffel Tower back to back with a “10-minute walk” in between.\n",
    "\n",
    "Reality check: it’s a 45-minute trek and about 5,000 tourists apart.\n",
    "\n",
    "---\n",
    "\n",
    "I tried again, but added detail:\n",
    "\n",
    "“Include realistic travel times, local transport routes, and affordable food spots within walking distance.”\n",
    "\n",
    "That changed everything. It recommended actual metro lines, nearby boulangeries, and even free museum days. When I asked it to “avoid tourist traps,” it swapped the Eiffel Tower for a picnic by Canal Saint-Martin.\n",
    "\n",
    "The lesson: the more you give it, the better it gets. “Plan my trip” gives you a brochure. “Plan my trip like a broke college student who values food and naps” gives you a more realistic plan.\n",
    "\n",
    "---\n",
    "\n",
    "I asked it to summarize costs:\n",
    "\n",
    "“List all estimated expenses and check if they stay under $400.”\n",
    "\n",
    "It made a tidy table:\n",
    "\n",
    "Hostel: $120\n",
    "\n",
    "Food: $90\n",
    "\n",
    "Metro: $25\n",
    "\n",
    "Activities: $30\n",
    "\n",
    "Flights: $120\n",
    "\n",
    "Total: $385\n",
    "\n",
    "The math worked, but it assumed I could find a $120 round-trip flight to Paris. So close, yet so delusional.\n",
    "\n",
    "---"
   ]
  },
  {
   "cell_type": "markdown",
   "id": "c6a73e02-7895-4f68-a3be-cffc99485dca",
   "metadata": {},
   "source": [
    "<p style=\"color:pink\">What did I learn?</p>\n",
    "\n",
    "An LLM can’t find real flight prices or book anything, but it’s great for:\n",
    "\n",
    "* Building itinerary frameworks fast.\n",
    "* Organizing activities by neighborhood.\n",
    "* Making budget templates that help you plan before checking prices.\n",
    "* Adjusting tone — backpacking, luxury, foodie, lazy traveler, etc.\n",
    "\n",
    "It’s like having a travel-savvy friend who’s never actually left the internet."
   ]
  },
  {
   "attachments": {
    "c337ff28-1448-4f25-ba1b-1163d960ebb8.jpg": {
     "image/jpeg": "[encoded data removed]"
    }
   },
   "cell_type": "markdown",
   "id": "d5c79e3a-8407-4eb5-9f23-99ccb013e869",
   "metadata": {},
   "source": [
    "![](attachment:c337ff28-1448-4f25-ba1b-1163d960ebb8.jpg)"
   ]
  }
 ],
 "metadata": {
  "kernelspec": {
   "display_name": "Python 3-12 (COMM4190)",
   "language": "python",
   "name": "python3-12_comm4190"
  },
  "language_info": {
   "codemirror_mode": {
    "name": "ipython",
    "version": 3
   },
   "file_extension": ".py",
   "mimetype": "text/x-python",
   "name": "python",
   "nbconvert_exporter": "python",
   "pygments_lexer": "ipython3",
   "version": "3.12.12"
  }
 },
 "nbformat": 4,
 "nbformat_minor": 5
}
