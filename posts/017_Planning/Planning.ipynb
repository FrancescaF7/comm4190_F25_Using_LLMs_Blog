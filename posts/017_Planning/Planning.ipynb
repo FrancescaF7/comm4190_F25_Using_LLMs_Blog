{
 "cells": [
  {
   "cell_type": "raw",
   "id": "4390ff9a-2546-4426-95c1-d8e896e66b30",
   "metadata": {},
   "source": [
    "---\n",
    "title: \"LLM Organization\"\n",
    "description: \"Can an LLM organize my week? Because sometimes \"I will start tomorrow\" turns into next month\"\n",
    "author: \"Francesca\"\n",
    "date: \"10/19/2025\"\n",
    "categories:\n",
    "  - LLMs\n",
    "  - Productivity\n",
    "  - Student Life\n",
    "---"
   ]
  },
  {
   "cell_type": "markdown",
   "id": "7ce288e4-5a3a-4179-8d9c-506753abf6a9",
   "metadata": {},
   "source": [
    "There is a fine line between being busy and being chaotically unstructured. I live somewhere in the middle - color-coded Google Calendar, unread Canvas notifcations, and around 5 different to-do lists.\n",
    "\n",
    "So I wanted to see if an LLM could actually plan my week for me. Not just a generic schedule, but one that fits my real life - classes, club meetings, workouts, sleep, and everything else.\n",
    "\n",
    "---"
   ]
  },
  {
   "cell_type": "markdown",
   "id": "091b5c7a-43dd-4c9b-9496-de0b6384b9e3",
   "metadata": {},
   "source": [
    "I started simple: \n",
    "\n",
    "\"Here is my class schedule and a list of tasks. Can you make me a study and work plan for the week.\"\n",
    "\n",
    "Within seconds, Chat GPT 5 produced me a full timetable: \n",
    "\n",
    "9:00–10:30: ECON lecture\n",
    "\n",
    "10:30–12:00: Review notes\n",
    "\n",
    "12:00–1:00: Lunch\n",
    "\n",
    "1:00–3:00: Library session\n",
    "\n",
    "3:00–4:00: Club work\n",
    "\n",
    "4:00–5:00: Gym\n",
    "\n",
    "<p style=\"color:pink\">It looked good and very efficient. However, there was no buffer for running late, no space for procrastination or mental fatigue, and no acknowledgment that I will not start studying at 9AM on a Monday.</p>\n",
    "\n",
    "---\n",
    "\n",
    "So I tried again:\n",
    "\n",
    "“I tend to procrastinate after lunch, take too long to get ready in the morning, and can’t focus for more than an hour straight. Make a realistic schedule.”\n",
    "\n",
    "The tone changed completely.\n",
    "It gave me built-in breaks, spaced-out study sessions, and even short “reset” periods:\n",
    "\n",
    "10:30–11:15: Study (Pomodoro 1)\n",
    "\n",
    "11:15–11:30: Short walk\n",
    "\n",
    "11:30–12:15: Study (Pomodoro 2)\n",
    "\n",
    "12:15–12:45: Lunch break\n",
    "\n",
    "12:45–1:30: Light review or notes organization\n",
    "\n",
    "<p style=\"color:pink\">It wasn’t perfect, but it felt more manageable It understood how to plan for breaks.</p>\n",
    "\n",
    "---\n",
    "\n",
    "Next, I added reflection:\n",
    "\n",
    "“Here’s what I actually did today. Can you adjust tomorrow’s plan accordingly?”\n",
    "\n",
    "That’s when it clicked. The LLM could adapt. If I skipped a study block or took longer on an assignment, it adjusted the next day automatically. It wasn’t just a planner — it was a coach.\n",
    "\n",
    "Over a few days, the tone even became motivational:\n",
    "\n",
    "“You completed 80% of what you planned — nice job! Let’s keep tomorrow lighter to avoid burnout.”\n",
    "\n",
    "<p style=\"color:pink\">It started reminding me of a supportive friend: encouraging but realistic, and occasionally too optimistic (“Review two chapters before breakfast”).</p>\n",
    "\n",
    "---\n"
   ]
  },
  {
   "cell_type": "markdown",
   "id": "aa114a00-b17c-4859-baa6-532adcc0680b",
   "metadata": {},
   "source": [
    "What I Learned:\n",
    "\n",
    "LLMs are surprisingly good at structure. They can turn chaos into order faster than any productivity app. But they don’t know your habits — you have to teach them.\n",
    "\n",
    "The trick is specificity:\n",
    "\n",
    "Tell it your actual routines, not your ideal ones.\n",
    "\n",
    "Ask for realistic blocks of time.\n",
    "\n",
    "Add feedback each day so it “learns” your rhythm.\n",
    "\n",
    "When you do, it becomes less like a machine and more like a flexible assistant who knows when you’re lying about “just finishing that later.”\n",
    "\n",
    "Final Reflection:\n",
    "\n",
    "AI can’t give you discipline — but it can give you direction.\n",
    "It can turn vague plans into concrete steps and help you see where your time actually goes. The real value isn’t in the schedule it makes — it’s in how you learn to plan better through it.\n",
    "\n",
    "It’s not a replacement for motivation.\n",
    "It’s a mirror that shows you what “productive” really looks like — one day, and one prompt, at a time."
   ]
  },
  {
   "attachments": {
    "41b0c9eb-f17b-40e8-93ed-9e42793ed2fb.jpg": {
     "image/jpeg": "[encoded data removed]"
    }
   },
   "cell_type": "markdown",
   "id": "9107c542-9dc0-448f-bf92-865248912a11",
   "metadata": {},
   "source": [
    "![](attachment:41b0c9eb-f17b-40e8-93ed-9e42793ed2fb.jpg)"
   ]
  }
 ],
 "metadata": {
  "kernelspec": {
   "display_name": "Python 3-12 (COMM4190)",
   "language": "python",
   "name": "python3-12_comm4190"
  },
  "language_info": {
   "codemirror_mode": {
    "name": "ipython",
    "version": 3
   },
   "file_extension": ".py",
   "mimetype": "text/x-python",
   "name": "python",
   "nbconvert_exporter": "python",
   "pygments_lexer": "ipython3",
   "version": "3.12.12"
  }
 },
 "nbformat": 4,
 "nbformat_minor": 5
}
