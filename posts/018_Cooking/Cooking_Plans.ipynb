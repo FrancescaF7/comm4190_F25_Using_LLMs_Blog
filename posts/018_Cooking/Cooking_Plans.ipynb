{
 "cells": [
  {
   "cell_type": "raw",
   "id": "1ace07e6-0810-4bd6-845b-aed3e8192e16",
   "metadata": {},
   "source": [
    "---\n",
    "title: \"Cooking Meal Plans\"\n",
    "description: \"Can an LLM plan meals for me that I will actually cook?\"\n",
    "author: \"Francesca\"\n",
    "date: \"10/24/2025\"\n",
    "categories:\n",
    "  - LLMs\n",
    "  - Productivity\n",
    "  - Daily Life\n",
    "---"
   ]
  },
  {
   "cell_type": "markdown",
   "id": "66fb3e59-9e63-4a79-ae0c-a754365ac51a",
   "metadata": {},
   "source": [
    "Every week I tell myself I’m going to meal prep. Every week I end up buying spinach that wilts before I remember it exists. So I wanted to see if a could help me plan meals that are realistic — not aspirational.\n",
    "\n",
    "---\n",
    "\n",
    "I told it:\n",
    "\n",
    "“Plan five easy dinners for one person, using ingredients that don’t go bad quickly and are resonably priced for a college studenet.”\n",
    "\n",
    "It immediately gave me a full grocery list and recipe lineup — pasta with chickpeas, veggie fried rice, sheet-pan chicken, etc. The list was actually organized (produce, pantry, protein), which already beat my usual Notes app chaos.\n",
    "\n",
    "But some meals were too fancy. Who has time to “slow roast tomatoes” after class?\n",
    "\n",
    "---\n",
    "\n",
    "So I clarified:\n",
    "\n",
    "“Make it faster. 30 minutes max. Only one pan.”\n",
    "\n",
    "That changed everything. The recipes became simple — things I’d actually cook, like stir-fry with frozen veggies or tacos using leftovers. It even suggested reusing ingredients to cut waste (“Use the same rice from Meal 1 for fried rice in Meal 3”).\n",
    "\n",
    "I liked that it didn’t just tell me what to eat — it thought through the logistics I usually forget.\n",
    "\n",
    "---\n",
    "\n",
    "Then I asked:\n",
    "\n",
    "“Turn this plan into a grocery list grouped by aisle.”\n",
    "\n",
    "It sorted everything by store section and even added alternatives (“If tofu isn’t available, use canned beans”).\n",
    "That made it feel less like a recipe site and more like a genuinely helpful assistant.\n",
    "\n",
    "---"
   ]
  },
  {
   "cell_type": "markdown",
   "id": "357eaa46-c873-4c74-a920-4a97a3649bc3",
   "metadata": {},
   "source": [
    "LLMs are surprisingly good at meal planning if you’re honest about your habits.\n",
    "Be specific with:\n",
    "\n",
    "Time (“30-minute meals”)\n",
    "\n",
    "Budget (“under $40”)\n",
    "\n",
    "Kitchen reality (“one pan, minimal cleanup”)\n",
    "\n",
    "The result won’t be restaurant-level, but it will get you through the week without surviving on granola bars."
   ]
  }
 ],
 "metadata": {
  "kernelspec": {
   "display_name": "Python 3-12 (COMM4190)",
   "language": "python",
   "name": "python3-12_comm4190"
  },
  "language_info": {
   "codemirror_mode": {
    "name": "ipython",
    "version": 3
   },
   "file_extension": ".py",
   "mimetype": "text/x-python",
   "name": "python",
   "nbconvert_exporter": "python",
   "pygments_lexer": "ipython3",
   "version": "3.12.12"
  }
 },
 "nbformat": 4,
 "nbformat_minor": 5
}
