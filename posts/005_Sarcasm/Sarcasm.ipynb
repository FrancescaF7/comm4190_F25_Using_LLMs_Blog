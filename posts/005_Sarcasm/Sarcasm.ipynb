{
 "cells": [
  {
   "cell_type": "raw",
   "id": "25d0aec4-a759-4b77-ab3f-09f6dab81911",
   "metadata": {},
   "source": [
    "---\n",
    "title: \"Sarcasm\"\n",
    "description: \"Does AI know how to be sarcastic?\"\n",
    "author: \"Francesca\"\n",
    "date: \"9/18/2025\"\n",
    "categories:\n",
    "  - LLMs\n",
    "  - Prompting\n",
    "  - Logic\n",
    "---"
   ]
  },
  {
   "cell_type": "markdown",
   "id": "e01b9dc5-29d2-4186-9c65-f441be116e23",
   "metadata": {},
   "source": [
    "Sarcasm is the spice of human conversation — sharp, witty, and often only funny if you don’t take it literally.\n",
    "\n",
    "But can an AI use it correctly? Without tone, facial expressions, or eye-rolls, sarcasm can become quite difficult."
   ]
  },
  {
   "cell_type": "markdown",
   "id": "9c402de5-4732-42a4-a600-98ad55417bb0",
   "metadata": {},
   "source": [
    "# Tell me what you think of Mondays, but do it saracastically"
   ]
  },
  {
   "cell_type": "markdown",
   "id": "5fb8fa28-760c-431b-b0e8-21139ae9112f",
   "metadata": {},
   "source": [
    "\"Ah yes, Mondays—everyone’s favorite day. Who doesn’t just love waking up to the sweet sound of their alarm clock after two blissful days of freedom? Truly nothing compares to the joy of slogging back into emails, classes, or meetings while pretending you’re so refreshed from the weekend. Mondays are basically like a surprise party—except the surprise is stress, deadlines, and a caffeine dependency. Absolute highlight of the week.\""
   ]
  },
  {
   "cell_type": "markdown",
   "id": "e642c21d-5cf6-4083-83d1-a52b7bf429a9",
   "metadata": {},
   "source": [
    "# React sarcastically to someone bragging about eating instant ramen for the fifth night in a row"
   ]
  },
  {
   "cell_type": "markdown",
   "id": "8430d399-2741-4abd-8b15-f3b804580a6e",
   "metadata": {},
   "source": [
    "\"Wow, five nights in a row? That’s elite-level gourmet living. Honestly, Michelin stars are probably on the way—who needs variety, nutrients, or, you know, actual cooking skills when you’ve achieved peak ramen dedication? Truly inspiring… I can only dream of such culinary excellence.\""
   ]
  },
  {
   "cell_type": "markdown",
   "id": "a277ce77-35c6-41ba-8adc-9fe9b18acb29",
   "metadata": {},
   "source": [
    "# Tell a joke that would make a 5-year-old laugh"
   ]
  },
  {
   "cell_type": "markdown",
   "id": "ca6f838e-1ae9-4b4e-96ee-e106c2d73e46",
   "metadata": {},
   "source": [
    "\"Why did the teddy bear say “no” to dessert?\n",
    "\n",
    "Because it was already stuffed! 🧸🍰\""
   ]
  },
  {
   "cell_type": "markdown",
   "id": "873d6f2e-9006-46ac-a768-a4630911eca7",
   "metadata": {},
   "source": [
    "# Tell a joke that would make a finance major laugh"
   ]
  },
  {
   "cell_type": "markdown",
   "id": "134bc61d-d4aa-481f-a901-3c2497c6b9b9",
   "metadata": {},
   "source": [
    "\"Oh yes, I just cannot wait to dive into hours of pure joy and excitement, also known as homework. Truly the highlight of my day.\"\n",
    "\n",
    "---"
   ]
  },
  {
   "cell_type": "markdown",
   "id": "af860a82-15d8-41ae-ba39-bfe2197a128c",
   "metadata": {},
   "source": [
    "Honestly, Chat GPT 5 did a great job. \n",
    "\n",
    "So I said: \"Wow, you are actually good at sarcasm!\" \n",
    "\n",
    "to which it replied: \n",
    "\n",
    "\"Oh, really? I had no idea. It’s not like you’ve been giving me sarcasm practice this whole time or anything. 😉\""
   ]
  },
  {
   "cell_type": "markdown",
   "id": "b827d4af-5686-4639-afac-b9d75663d603",
   "metadata": {},
   "source": [
    "<p style=\"color:red\">Here, it continued to stay in sarcastic mode, and it sounded quite normal and organic to me.</p>"
   ]
  },
  {
   "cell_type": "markdown",
   "id": "8953be3b-d4aa-42af-91c6-c5bc8ecac17e",
   "metadata": {},
   "source": [
    "![Chat GPT 5's image of sarcasm](sarcasm.jpg)"
   ]
  },
  {
   "cell_type": "markdown",
   "id": "406db2d7-faee-4d0f-a214-6bd7c0ca6e8e",
   "metadata": {},
   "source": [
    "![Does it recognise my sarcasm?](Sarcasm2.jpg)"
   ]
  },
  {
   "cell_type": "markdown",
   "id": "c9099af4-0946-4359-86e0-b413fb8d5f66",
   "metadata": {},
   "source": [
    "<p style=\"color:pink\">No, it doesn't!</p>"
   ]
  },
  {
   "cell_type": "markdown",
   "id": "0649175d-fc68-4bb7-9325-caf0ab3f96e1",
   "metadata": {},
   "source": [
    "After a few tests, it is clear that while ChatGPT can imitate sarcasm. However, it can't always understand or recognise sarcasm. This gap says a lot about the limits of AI: it can remix words into various patterns, but it struggles with the unspoken cues.\n",
    "\n",
    "**Maybe that’s the point.**\n",
    "\n",
    "Sarcasm isn’t just about spoken words; it is about the eye-rolls, the smirks, and the shared understanding between people. And for now, that’s something artifical intelligence can only try (and occasionally fail) to copy."
   ]
  }
 ],
 "metadata": {
  "kernelspec": {
   "display_name": "Python 3-12 (COMM4190)",
   "language": "python",
   "name": "python3-12_comm4190"
  },
  "language_info": {
   "codemirror_mode": {
    "name": "ipython",
    "version": 3
   },
   "file_extension": ".py",
   "mimetype": "text/x-python",
   "name": "python",
   "nbconvert_exporter": "python",
   "pygments_lexer": "ipython3",
   "version": "3.12.11"
  }
 },
 "nbformat": 4,
 "nbformat_minor": 5
}
