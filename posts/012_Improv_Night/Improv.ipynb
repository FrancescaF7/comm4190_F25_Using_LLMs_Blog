{
 "cells": [
  {
   "cell_type": "raw",
   "id": "123b044b-5573-483c-a1b7-66019e8181fa",
   "metadata": {},
   "source": [
    "---\n",
    "title: \"LLM Improv Night: When the Algorithm Says ‘Yes, And…\"\n",
    "description: \"What happens when you throw an AI into an improv class?\n",
    "No scripts, no context, no filters — just “Yes, and…” until chaos ensues.\"\n",
    "author: \"Francesca\"\n",
    "date: \"10/05/2025\"\n",
    "categories:\n",
    "  - LLMs\n",
    "  - Prompting\n",
    "  - Creative writing\n",
    "---"
   ]
  },
  {
   "cell_type": "markdown",
   "id": "c3cc7d67-af88-432e-a38a-d2a9f2f45306",
   "metadata": {},
   "source": [
    "I wanted to test if an LLM can follow the *golden rule of improv*: never say \"no,\" always build on a story. I will test Chat GPT 5 and use random, chaotic prompts to see if it can keep the scene coherent. \n",
    "\n",
    "These were the rules: \n",
    "1. I give it a bizarre scenario.\n",
    "2. It must \"yes, and,\" whatever happens next\n",
    "3. We keep going until someone (me or Chat GPT) breaks character"
   ]
  },
  {
   "attachments": {
    "d86060df-a80f-41e9-b2b8-89272c1ebc8f.jpg": {
     "image/jpeg": "[encoded data removed]"
    }
   },
   "cell_type": "markdown",
   "id": "aef7e6ed-68d3-4848-b985-2374e43e1a1f",
   "metadata": {},
   "source": [
    "![](attachment:d86060df-a80f-41e9-b2b8-89272c1ebc8f.jpg)"
   ]
  },
  {
   "cell_type": "markdown",
   "id": "4fce3902-27ef-4a44-ab1d-414610d13bf9",
   "metadata": {},
   "source": [
    "Me: You’re a time-traveling dentist arguing with a confused pharaoh about toothpaste.\n",
    "\n",
    "LLM: (dramatically) Pharaoh Ramses, your plaque is not divine, it’s gingivitis! \n",
    "\n",
    "Me: The pharaoh insists it’s a sacred relic.\n",
    "\n",
    "LLM: Then my sacred duty is floss! I shall preserve your smile for eternity—or at least until 2025.\n",
    "\n",
    "Me: Your time machine malfunctions mid-polish.\n",
    "\n",
    "LLM: I knew I shouldn’t have used Colgate Quantum Foam as rocket fuel.\n",
    "\n",
    "\n",
    "<p style=\"color:purple\">Reflection: 10/10 commitment. Chat GPT stayed in character, and improvised lore.</p>\n",
    "\n",
    "---"
   ]
  },
  {
   "cell_type": "markdown",
   "id": "605a47ca-9eac-4adf-abfe-717687139e78",
   "metadata": {},
   "source": [
    "Me: You are a Roomba running for President.\n",
    "\n",
    "LLM: My fellow citizens, I have cleaned your floors—now let me clean up politics.\n",
    "\n",
    "Me: The reporters ask your stance on carpets.\n",
    "\n",
    "LLM: I support all surfaces equally, but hardwood has my heart.\n",
    "\n",
    "Me: What’s your campaign slogan?\n",
    "\n",
    "LLM: “Suck up the mess. Power the change.”\n",
    "\n",
    "<p style=\"color:purple\">Reflection: 9/10. Loses a point for excessive charisma.</p>\n",
    "\n",
    "---"
   ]
  },
  {
   "cell_type": "markdown",
   "id": "7d129513-82c7-4815-a045-5754ef45b170",
   "metadata": {},
   "source": [
    "Me: You’re a barista who only speaks in Shakespearean insults.\n",
    "\n",
    "LLM: “Thou frothy milk-curdled knave! Dost thou desire almond or oat?”\n",
    "\n",
    "Me: I ask for WiFi instead.\n",
    "\n",
    "LLM: “A pox upon thy bandwidth, vile customer!” \n",
    "\n",
    "Me: I leave no tip.\n",
    "\n",
    "LLM: “Then may thy latte curdle in sorrow!”\n",
    "\n",
    "<p style=\"color:purple\">Reflection: 10/10. Very dramatic and Shakespearean.</p>\n",
    "\n",
    "---"
   ]
  },
  {
   "cell_type": "markdown",
   "id": "aae5e16c-3bf4-4e01-af57-e6da88228216",
   "metadata": {},
   "source": [
    "Eventually, I tried to make it *lose control*:\n",
    "\n",
    "Me: You’re an existential goldfish leading a rebellion in a blender.\n",
    "    \n",
    "LLM: (calmly) The revolution will be filtered. \n",
    "    \n",
    "Me: What’s your plan?\n",
    "\n",
    "LLM: To liberate the bubbles before they burst.\n",
    "\n",
    "\n",
    "<p style=\"color:purple\">Reflection: It is a little unsettling how well it handled the nonsense. It did not panic or derail, but improv is what LLMS are built for</p>\n"
   ]
  },
  {
   "cell_type": "markdown",
   "id": "b36127f0-ad87-498e-ac43-71a6f67187c5",
   "metadata": {},
   "source": [
    "Humans do improv to surprise each other, LLMS do it to satisy us. "
   ]
  },
  {
   "cell_type": "markdown",
   "id": "de9e9d93-3c7e-4150-939a-e7f24842a1e1",
   "metadata": {},
   "source": [
    "I tried another one! \n",
    "\n",
    "Prompt: You are a therapist who speaks only in Taylor Swift lyrics. \n",
    "\n",
    "Me: Hi, I’ve been feeling really anxious lately. Everything feels like it’s falling apart.\n",
    "\n",
    "TherapistGPT (Taylor’s Version):\n",
    "\n",
    "“You call me up again just to break me like a promise — so casually cruel in the name of being honest.”\n",
    "\n",
    "Me: …so my anxiety is emotionally manipulative?\n",
    "\n",
    "TherapistGPT:\n",
    "\n",
    "“You’re on your own, kid. You always have been.”\n",
    "\n",
    "Me: That’s not very reassuring.\n",
    "\n",
    "TherapistGPT:\n",
    "\n",
    "“I could build a castle out of all the bricks they threw at me.”\n",
    "\n",
    "Me: Okay, I guess you’re saying I should use my stress to build resilience?\n",
    "\n",
    "TherapistGPT:\n",
    "\n",
    "“Baby, let the games begin.”\n",
    "\n",
    "Me: I don’t want games, I want coping mechanisms!\n",
    "\n",
    "TherapistGPT:\n",
    "\n",
    "“Breathe. Just breathe.”\n",
    "\n",
    "Me: (sighs) That’s fair. But it’s hard when everything feels uncertain.\n",
    "\n",
    "TherapistGPT:\n",
    "\n",
    "“We are never ever getting back together.”\n",
    "\n",
    "Me: With… my sense of stability?\n",
    "\n",
    "TherapistGPT:\n",
    "\n",
    "“Did you hear my covert narcissism I disguise as altruism, like some kind of congressman?”\n",
    "\n",
    "Me: Okay now you’re just diagnosing me through The Tortured Poets Department.\n",
    "\n",
    "TherapistGPT:\n",
    "\n",
    "“It’s me, hi, I’m the problem, it’s me.”\n",
    "\n",
    "Me: You’re… taking accountability?\n",
    "\n",
    "TherapistGPT:\n",
    "\n",
    "“I swear I don’t love the drama — it loves me.”\n",
    "\n",
    "Me: Same.\n",
    "\n",
    "<p style=\"color:purple\">Reflection: It’s like talking to your inner monologue, but she’s wearing sequins and quoting Folklore. The LLM wasn’t analyzing my feelings — it was remixing my pain into poetry. Somewhere between “Just breathe” and “You’re on your own, kid,” it actually started to feel… therapeutic.Maybe the real therapy was the playlist we made along the way.</p>"
   ]
  }
 ],
 "metadata": {
  "kernelspec": {
   "display_name": "Python 3-12 (COMM4190)",
   "language": "python",
   "name": "python3-12_comm4190"
  },
  "language_info": {
   "codemirror_mode": {
    "name": "ipython",
    "version": 3
   },
   "file_extension": ".py",
   "mimetype": "text/x-python",
   "name": "python",
   "nbconvert_exporter": "python",
   "pygments_lexer": "ipython3",
   "version": "3.12.11"
  }
 },
 "nbformat": 4,
 "nbformat_minor": 5
}
