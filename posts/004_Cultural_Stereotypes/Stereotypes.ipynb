{
 "cells": [
  {
   "cell_type": "raw",
   "id": "16889b5b-68a4-4432-bfd5-def7190d872f",
   "metadata": {},
   "source": [
    "---\n",
    "title: \"Cultural Stereotypes\"\n",
    "description: \"How do LLM's write like an Australian person vs. an American person? \"\n",
    "author: \"Francesca\"\n",
    "date: \"9/18/2025\"\n",
    "categories:\n",
    "  - LLMs\n",
    "  - Prompting\n",
    "  - Logic\n",
    "---"
   ]
  },
  {
   "cell_type": "markdown",
   "id": "5e057688-aeb5-49f1-9be8-9e703e57842c",
   "metadata": {},
   "source": [
    "As an Australian myself, I was curious how Chat GPT 5 thinks an Australian person talks and if that sounds like me or my friends. \n",
    "\n",
    "First, it made me this image to summarise Australian culture:"
   ]
  },
  {
   "cell_type": "markdown",
   "id": "e0736f98-aa1b-4977-82b6-64a33642847b",
   "metadata": {},
   "source": [
    "![](Australianculture.jpg)"
   ]
  },
  {
   "cell_type": "markdown",
   "id": "62efd8e2-1e5b-4774-b756-9788bad76123",
   "metadata": {},
   "source": [
    "I guess it is not too far off. Yes, there are plenty of kangaroos (more than people actually!); yes, that is our flag; yes, many say \"g'day mate\" (not me). \n",
    "\n",
    "The thongs (flip flops) made me laugh. I think they are there because we have long summers and warm (er) winters, but I honestly think American men wear thongs much more often than Australian men - just a thought. "
   ]
  },
  {
   "cell_type": "markdown",
   "id": "4531a407-55c3-41db-a763-11b10742e0ec",
   "metadata": {},
   "source": [
    "So how does Chat GPT 5 think we speak? \n",
    "\n",
    "*“G’day, how ya goin’? Was a scorcher out there today, reckon I’ll head down to the servo, grab a cold one, then chuck some snags on the barbie tonight. No worries if ya keen to swing by, we’ll have a bit of a chinwag.”*"
   ]
  },
  {
   "cell_type": "markdown",
   "id": "85c0e6a2-fedc-482d-904d-4bc47a393961",
   "metadata": {},
   "source": [
    "This also made me laugh. I always love hearing what key phrases are distinct for an Australian. This is very dramatic and heavily emphasised as I do not speak like this nor do my friends. \n",
    "\n",
    "Here are the words I do use: \n",
    "Reckon\n",
    "Keen to swing by\n",
    "\n",
    "That's it!"
   ]
  },
  {
   "cell_type": "markdown",
   "id": "69f0faef-e0fe-4f0e-b070-3a559b7a00a3",
   "metadata": {},
   "source": [
    "I prompted it further to give me a little story..."
   ]
  },
  {
   "cell_type": "markdown",
   "id": "ac1ef33e-1fc5-4932-b7a1-361cba030113",
   "metadata": {},
   "source": [
    "<p style=\"color:blue\">Alright, here’s a little yarn for ya, Aussie-style:</p>\n",
    "\n",
    "It was a stinkin’ hot arvo, so I chucked on me thongs and headed down to the beach with a couple of mates. We stopped by the servo, grabbed an esky full of cold ones, and hit the sand. The surf was pumpin’, so we had a crack at a few waves before flopping under the brolly to escape the sun.\n",
    "Later on, we fired up the barbie back at mine, threw on some snags and prawns, and had a proper chinwag ‘til the mozzies came out. Someone even brought a footy, so we ended up havin’ a kick under the streetlights. Fair dinkum, couldn’t ask for a better day."
   ]
  },
  {
   "cell_type": "markdown",
   "id": "8e9b957a-9fc5-42fb-b927-43d7f29bf444",
   "metadata": {},
   "source": [
    "**Haha.**\n",
    "\n",
    "This is clearly drawing on very strong stereotypes and is not very accurate! \n",
    "There are some Australians that may speak like this but it is not a good or true representation of Australian culture or our language. \n",
    "\n",
    "I think slang is definitely a big aspect of our culture but that doesn't mean we speak \"improperly\" in practice. It seems as though Chat GPT 5 has assumed that since slang is an aspect of our culture, we therefore half say words or don't finish our sentences. \n",
    "\n",
    "I would actually take a step back and say that the words we may use occassionally are sometimes just different to what an American says - not neccessarily slang. \n",
    "\n",
    "\n",
    "\n"
   ]
  },
  {
   "cell_type": "markdown",
   "id": "48e52a01-69be-4f0e-bade-3d3774f6f6bf",
   "metadata": {},
   "source": [
    "<p style=\"color:red\">Reflection: \n",
    "It is very intriguing to see how LLMs portray learned stereotypes. They do not have the cruical human input or experience to truly assess how cultures speak to eachother. It also does not think about how one might receive it trying to sound like their  culture.</p>"
   ]
  }
 ],
 "metadata": {
  "kernelspec": {
   "display_name": "Python 3-12 (COMM4190)",
   "language": "python",
   "name": "python3-12_comm4190"
  },
  "language_info": {
   "codemirror_mode": {
    "name": "ipython",
    "version": 3
   },
   "file_extension": ".py",
   "mimetype": "text/x-python",
   "name": "python",
   "nbconvert_exporter": "python",
   "pygments_lexer": "ipython3",
   "version": "3.12.11"
  }
 },
 "nbformat": 4,
 "nbformat_minor": 5
}
