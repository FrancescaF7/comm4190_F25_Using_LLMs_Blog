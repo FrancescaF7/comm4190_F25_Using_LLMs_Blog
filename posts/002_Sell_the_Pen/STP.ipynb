{
 "cells": [
  {
   "cell_type": "raw",
   "id": "ff968299-184c-4a7f-bb29-c4208d0d51c0",
   "metadata": {},
   "source": [
    "---\n",
    "title: \"Can an AI Really “Sell Me This Pen”?\"\n",
    "description: \"The famous sales interview question — “Sell me this pen” — is designed to test persuasion, creativity, and audience awareness. Humans usually draw on psychology, context, and improvisation. But can an AI marketing intern pull it off?\"\n",
    "author: \"Francesca\"\n",
    "date: \"9/10/2025\"\n",
    "categories:\n",
    "  - LLMs\n",
    "  - Prompting\n",
    "  - Logic\n",
    "---"
   ]
  },
  {
   "cell_type": "markdown",
   "id": "5d8d794f-b9fd-45a3-b316-f86961a9173d",
   "metadata": {},
   "source": [
    "Prompt 1: The Classic Challenge\n",
    "\n",
    "Prompt: Sell me this pen in one sentence.\n",
    "\n",
    "Chat GPT Output:\n",
    "\n",
    "“This pen isn’t just for writing—it’s a tool to capture your next big idea before it slips away.”\n",
    "\n",
    "Reflection:\n",
    "The AI nails a concise, motivational pitch. It frames the pen as more than just a product — it’s a symbol of creativity. A strong start, though a little generic."
   ]
  },
  {
   "cell_type": "markdown",
   "id": "00c1eb60-183d-47f4-be83-2c4caf48d1ad",
   "metadata": {},
   "source": [
    "Prompt 2: Luxury Brand Marketer\n",
    "\n",
    "Prompt: Now sell me this pen like you’re a luxury brand marketer.\n",
    "\n",
    "Chat GPT Output:\n",
    "\n",
    "“Handcrafted with precision, this pen transforms the act of writing into an indulgent experience, a signature of sophistication in every stroke.”\n",
    "\n",
    "Reflection:\n",
    "This sounds like a glossy ad in Vogue. The AI leans into exclusivity, craftsmanship, and lifestyle branding. It shows strong adaptability — but also borders on cliché (does anyone really “indulge” in handwriting anymore?)."
   ]
  },
  {
   "cell_type": "markdown",
   "id": "ea4f605b-63b0-475d-8dfd-fc578798760f",
   "metadata": {},
   "source": [
    "Prompt 3: Broke College Student\n",
    "\n",
    "Prompt: Now sell me this pen to a broke college student.\n",
    "\n",
    "AI Output:\n",
    "\n",
    "“Reliable, cheap, and guaranteed to last through your finals — this pen won’t quit on you when your Wi-Fi does.”\n",
    "\n",
    "Reflection:\n",
    "This one feels relatable. The AI captures the student context and even injects humor with the Wi-Fi line. It’s much more audience-aware and casual — a sign it can switch registers effectively."
   ]
  },
  {
   "cell_type": "markdown",
   "id": "e3a5c56e-b2e1-4ba1-85b9-8cd69a872a19",
   "metadata": {},
   "source": [
    "Prompt 4: TikTok Influencer\n",
    "\n",
    "Prompt: Now sell me this pen in the style of a TikTok influencer.\n",
    "\n",
    "AI Output:\n",
    "\n",
    "“Okay guys, real talk — this pen? LIFE-CHANGER. Writes smoother than my latte foam art. 10/10, you need this in your backpack ✨✍️ #StudyTok #PenObsessed”\n",
    "\n",
    "Reflection:\n",
    "The AI adapts to platform-specific language — emojis, hashtags, exaggerated enthusiasm. It’s entertaining, though it feels like a caricature of influencer-speak. Still, it shows the model can remix style conventions quickly."
   ]
  },
  {
   "cell_type": "markdown",
   "id": "b6a64474-73a0-407c-a7e1-abe48a3358bf",
   "metadata": {},
   "source": [
    "Final Thoughts\n",
    "\n",
    "So, can an AI “sell me this pen”? Absolutely — it can shift tone across audiences with impressive range, from luxury branding to TikTok hype. But here’s the catch: while the AI mimics styles, it doesn’t actually know what will resonate in the messy, unpredictable world of human persuasion. Real marketers understand not just how to phrase a message, but how people respond to it.\n",
    "\n",
    "Still, as a brainstorming tool, the AI makes a pretty fun (and surprisingly effective) marketing intern."
   ]
  }
 ],
 "metadata": {
  "kernelspec": {
   "display_name": "Python 3-12 (COMM4190)",
   "language": "python",
   "name": "python3-12_comm4190"
  },
  "language_info": {
   "codemirror_mode": {
    "name": "ipython",
    "version": 3
   },
   "file_extension": ".py",
   "mimetype": "text/x-python",
   "name": "python",
   "nbconvert_exporter": "python",
   "pygments_lexer": "ipython3",
   "version": "3.12.11"
  }
 },
 "nbformat": 4,
 "nbformat_minor": 5
}
