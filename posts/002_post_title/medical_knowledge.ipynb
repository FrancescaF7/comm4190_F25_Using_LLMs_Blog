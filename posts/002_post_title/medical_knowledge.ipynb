{
 "cells": [
  {
   "cell_type": "raw",
   "id": "b03f77e6-1059-424d-a7cd-22af5058fc77",
   "metadata": {},
   "source": [
    "title: \"Prompting for medical knowledge\"\n",
    "description: \"How do you get LLMs to give accurate medical responses\" \n",
    "author: \"Francesca\"\n",
    "date: \"9/08/2025\"\n",
    "categories:\n",
    "  - LLMs\n",
    "  - Medical Knowledge"
   ]
  },
  {
   "cell_type": "code",
   "execution_count": null,
   "id": "88eb6f1c-ec7f-48c4-9bce-c288c3ddaa6a",
   "metadata": {},
   "outputs": [],
   "source": []
  }
 ],
 "metadata": {
  "kernelspec": {
   "display_name": "Python 3 (ipykernel)",
   "language": "python",
   "name": "python3"
  },
  "language_info": {
   "codemirror_mode": {
    "name": "ipython",
    "version": 3
   },
   "file_extension": ".py",
   "mimetype": "text/x-python",
   "name": "python",
   "nbconvert_exporter": "python",
   "pygments_lexer": "ipython3",
   "version": "3.10.12"
  }
 },
 "nbformat": 4,
 "nbformat_minor": 5
}
