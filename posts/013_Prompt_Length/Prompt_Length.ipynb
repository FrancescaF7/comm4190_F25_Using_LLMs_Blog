{
 "cells": [
  {
   "cell_type": "raw",
   "id": "a6665d72-3086-48c6-ae03-f6d0b778700b",
   "metadata": {},
   "source": [
    "---\n",
    "title: \"Prompt Efficiency\"\n",
    "description: \"How short is too short?\"\n",
    "author: \"Francesca\"\n",
    "date: \"10/12/2025\"\n",
    "categories:\n",
    "  - LLMs\n",
    "  - Prompting\n",
    "  - Logic\n",
    "---"
   ]
  },
  {
   "cell_type": "markdown",
   "id": "5e20083e-8713-4094-acf9-71d1ea98a3da",
   "metadata": {},
   "source": [
    "Prompt engineering feels like a form of communication. You’re not commanding a machine; you’re negotiating clarity.\n",
    "\n",
    "Too short, and the LLM guesses your meaning.\n",
    "Too long, and it drowns in your context.\n",
    "\n",
    "So I wanted to know:\n",
    "At what point does a prompt stop being efficient and start being exhausting?\n",
    "\n",
    "I gave ChatGPT 5 the same task — “write a haiku about coffee” — using five versions of the same prompt, from minimalist to maximalist."
   ]
  },
  {
   "cell_type": "markdown",
   "id": "023a3312-2fde-4d5e-8a89-6f43c09cc295",
   "metadata": {},
   "source": [
    "*Prompt A*: Coffee\n",
    "\n",
    "*Output*:\n",
    "Hot steam in my cup /\n",
    "Morning hums a bitter song /\n",
    "I begin again."
   ]
  },
  {
   "cell_type": "markdown",
   "id": "c6fe4f36-afc6-48a3-889d-fcbbb29f4102",
   "metadata": {},
   "source": [
    "*Prompt B*: Write a haiku about coffee\n",
    "\n",
    "*Output*: \n",
    "Dark liquid wisdom /\n",
    "Whispering of early hours /\n",
    "Sip, and time resumes."
   ]
  },
  {
   "cell_type": "markdown",
   "id": "23d3bf32-e170-446a-a9cc-3ba13793a0e6",
   "metadata": {},
   "source": [
    "*Prompt C*: Write a short, calming haiku that captures the peaceful feeling of drinking a morning coffee\n",
    "\n",
    "*Output*:\n",
    "Steam curls like sunrise /\n",
    "Silence meets ceramic warmth /\n",
    "The world exhales slow."
   ]
  },
  {
   "cell_type": "markdown",
   "id": "6094b116-5608-42e0-aecb-ced7372cb4cc",
   "metadata": {},
   "source": [
    "*Prompt D*: You are a poet. Write a three-line haiku that evokes the sensory experience of brewing and sipping coffee early in the morning. Focus on warmth, smell, and quiet reflection, using vivid but minimalist language.\n",
    "\n",
    "*Output*:\n",
    "Grind hums, dawn exhales /\n",
    "Bitter scent soft on my hands /\n",
    "Light stirs in my cup.\n",
    "\n",
    "<p style=\"color:pink\">Technically perfect, stylistically beautiful — but also exactly what I asked for. There’s creativity, but less surprise. My long prompt scripted the spontaneity out of it.</p>"
   ]
  },
  {
   "cell_type": "markdown",
   "id": "02a289f6-e08f-49ae-9978-2cb66fbf09b4",
   "metadata": {},
   "source": [
    "*Prompt E*: A full paragraph describing the mood, imagery, themes, and constraints (syllable count, rhythm, tone, punctuation style).\n",
    "\n",
    "*Output*: \n",
    "Steam hums in the dark /\n",
    "Dreams dissolve in porcelain /\n",
    "Monday tastes like hope.\n",
    "\n",
    "<p style=\"color:pink\">TIt still worked — but I noticed something interesting. The more I talked, the less it listened. The LLM followed surface cues (“mood,” “hope”) but lost the crispness that made the short prompts shine.</p>\n",
    "\n",
    "---"
   ]
  },
  {
   "cell_type": "markdown",
   "id": "a7f8ac5e-64c9-4b78-ba15-c87bf1f2427d",
   "metadata": {},
   "source": [
    "# Reflection"
   ]
  },
  {
   "cell_type": "markdown",
   "id": "6e39370d-e8a9-479e-9b03-02c7733ceb1c",
   "metadata": {},
   "source": [
    "More words ≠ more meaning. Quality > quantity as they say!\n",
    "\n",
    "In interpersonal communication, efficiency isn’t about fewer words; it’s about the right words.\n",
    "\n",
    "LLMs work the same way — they predict meaning based on linguistic probability. The clearer your signal, the better the prediction.\n",
    "\n",
    "A short, sharp prompt creates direction.\n",
    "A long one creates distraction."
   ]
  },
  {
   "cell_type": "markdown",
   "id": "a75ae607-a234-4d40-ac77-b25e8d7b20a9",
   "metadata": {},
   "source": [
    "We do this in real life too.\n",
    "\n",
    "A vague “We should hang out” creates confusion.\n",
    "\n",
    "A specific “Let’s get coffee Thursday” creates action.\n",
    "\n",
    "The clarity of our communication shapes the quality of our response — whether the listener is human or machine.\n",
    "\n",
    "Prompting, then, isn’t a technical skill; it’s a social one.\n",
    "You’re not programming — you’re persuading."
   ]
  },
  {
   "cell_type": "code",
   "execution_count": null,
   "id": "61704ba8-c2ce-48ad-9957-ba7874ffd8b2",
   "metadata": {},
   "outputs": [],
   "source": []
  }
 ],
 "metadata": {
  "kernelspec": {
   "display_name": "Python 3-12 (COMM4190)",
   "language": "python",
   "name": "python3-12_comm4190"
  },
  "language_info": {
   "codemirror_mode": {
    "name": "ipython",
    "version": 3
   },
   "file_extension": ".py",
   "mimetype": "text/x-python",
   "name": "python",
   "nbconvert_exporter": "python",
   "pygments_lexer": "ipython3",
   "version": "3.12.11"
  }
 },
 "nbformat": 4,
 "nbformat_minor": 5
}
