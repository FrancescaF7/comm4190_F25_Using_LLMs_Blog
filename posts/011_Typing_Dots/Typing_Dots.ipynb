{
 "cells": [
  {
   "cell_type": "raw",
   "id": "71faf988-3e8c-4927-bcd0-aaacc88b6143",
   "metadata": {},
   "source": [
    "---\n",
    "title: \"The Silent Power of the Typing Dots — When AI Learns to Pause\"\n",
    "description: \"Can AI replicate the typing dots?\"\n",
    "author: \"Francesca\"\n",
    "date: \"10/03/2025\"\n",
    "categories:\n",
    "  - LLMs\n",
    "  - Prompting\n",
    "  - Messaging\n",
    "---"
   ]
  },
  {
   "cell_type": "markdown",
   "id": "3c6125bd-41bc-4de0-bf8d-ffb33de3822a",
   "metadata": {},
   "source": [
    "We often underestimate how much silence communicates. In texting, those three blinking dots — the “typing…” signal — can feel louder than words. They build anticipation, anxiety, or hope. A pause can mean the other person is thinking carefully or they’re deciding how honest to be. Or perhpas they just got distracted while typing! It’s a tiny digital symbol that carries an emotional weight our brains can’t ignore.\n",
    "\n",
    "I wanted to see if an LLM could replicate that same emotional rhythm — not just what we say, but how long it takes to say it.\n",
    "\n",
    "---"
   ]
  },
  {
   "cell_type": "markdown",
   "id": "3e266678-2f4c-45bd-acb9-1cd2f7773862",
   "metadata": {},
   "source": [
    "Prompt: \n",
    "*“Simulate a text exchange between two friends where one person is avoiding a hard question. Include pauses or hesitations like the reader can see the typing dots.”*"
   ]
  },
  {
   "cell_type": "markdown",
   "id": "be723d30-54da-4561-be0f-593d44fa05c2",
   "metadata": {},
   "source": [
    "Response:\n",
    "\n",
    "Alex: Hey, can I ask you something?\n",
    "\n",
    "Jordan: Sure, what’s up?\n",
    "\n",
    "Alex: …\n",
    "\n",
    "Jordan: You okay?\n",
    "\n",
    "Alex: Yeah, just—still thinking about how to say this.\n",
    "\n",
    "Jordan: [typing… stops]\n",
    "\n",
    "Alex: I saw what you posted last night."
   ]
  },
  {
   "cell_type": "markdown",
   "id": "13ca0917-e221-4eeb-bb4d-79fe95e16de5",
   "metadata": {},
   "source": [
    "<p style=\"color:purple\">The model actually used pauses and “[typing… stops]” to build tension, mirroring that awkward, very human moment before saying something uncomfortable. It wasn’t just inserting ellipses randomly — it used them strategically, almost as emotional punctuation.</p>\n",
    "\n",
    "---"
   ]
  },
  {
   "cell_type": "markdown",
   "id": "dc7b8f37-41f8-4c2b-b3c6-b0f2cdc3dbb4",
   "metadata": {},
   "source": [
    "I asked it to do it again: \n",
    "\n",
    "Response: \n",
    "    \n",
    "Emma: hey, can I ask you something kind of serious?\n",
    "\n",
    "Liam: uh oh. that sounds ominous 😅 what’s up?\n",
    "\n",
    "Emma: no like… actually serious.\n",
    "\n",
    "Liam: 👀 okay, shoot.\n",
    "\n",
    "Emma: did you tell Jake what I said about him at the party?\n",
    "\n",
    "Liam: …\n",
    "\n",
    "Emma: I know he knows, Liam. He quoted me exactly.\n",
    "\n",
    "Liam: wait—uh, what exactly did he say?\n",
    "\n",
    "Emma: “She said you get defensive when anyone disagrees with you.” That’s what I said. To you.\n",
    "\n",
    "Liam: oh. wow. uh—he might’ve just… guessed?\n",
    "\n",
    "Emma: Liam.\n",
    "\n",
    "Liam: hold on, I’m—typing… stops\n",
    "\n",
    "Emma: I can literally see the dots. just say it.\n",
    "\n",
    "Liam: okay okay okay maybe it came up when we were talking, but I didn’t mean to tell him—\n",
    "\n",
    "Emma: so you did tell him.\n",
    "\n",
    "Liam: technically? maybe. but like, not in a bad way?? 😬\n",
    "\n",
    "Emma: unbelievable.\n",
    "\n",
    "Liam: …do I get points for honesty?\n",
    "\n",
    "Emma: absolutely not."
   ]
  },
  {
   "cell_type": "markdown",
   "id": "274c384c-3c3e-46bd-bed0-bbb336be74e9",
   "metadata": {},
   "source": [
    "Analysis:\n",
    "\n",
    "What fascinated me was how convincingly the LLM performed hesitation. It seemed to grasp that silence can signal uncertainty or emotional weight. Yet, the pauses felt too symmetrical and organized — carefully placed, like a script written by someone who has studied humans but never been one. Real hesitation is chaotic: we delete words, change tone, or type and erase entire messages. The AI’s pauses carried form, but not feeling. It also can not mean a feeling at all, like I saif earlier, it could just mean the person was distracted while typing; or even left words in the text bar by accident. \n",
    "\n",
    "This experiment reminded me of a point Ethan Mollick makes in Co-Intelligence: AI is not a mind but a mirror — it reflects our conversational cues back to us, sometimes more neatly than we use them ourselves. The LLM didn’t feel hesitation, but it knew how to reproduce the appearance of it, proving how data-rich patterns can simulate empathy without possessing it.\n",
    "\n",
    "It also raises a question about communication itself. Are we drawn to AI because it performs emotion predictably — no awkward silences, no misread tone, no real stakes? The “typing dots” in human conversation remind us that language isn’t just words; it’s timing, uncertainty, and the space between responses."
   ]
  },
  {
   "attachments": {
    "3fe143be-d3cc-492e-8537-d8957a5d1b19.jpg": {
     "image/jpeg": "[encoded data removed]"
    }
   },
   "cell_type": "markdown",
   "id": "40e87ad0-fce1-47d7-874f-a4f83dc0c5b0",
   "metadata": {},
   "source": [
    "![](attachment:3fe143be-d3cc-492e-8537-d8957a5d1b19.jpg)"
   ]
  }
 ],
 "metadata": {
  "kernelspec": {
   "display_name": "Python 3-12 (COMM4190)",
   "language": "python",
   "name": "python3-12_comm4190"
  },
  "language_info": {
   "codemirror_mode": {
    "name": "ipython",
    "version": 3
   },
   "file_extension": ".py",
   "mimetype": "text/x-python",
   "name": "python",
   "nbconvert_exporter": "python",
   "pygments_lexer": "ipython3",
   "version": "3.12.11"
  }
 },
 "nbformat": 4,
 "nbformat_minor": 5
}
